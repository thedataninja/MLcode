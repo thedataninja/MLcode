{
  "nbformat": 4,
  "nbformat_minor": 0,
  "metadata": {
    "colab": {
      "provenance": [],
      "authorship_tag": "ABX9TyMycW8U/+N9lZo/x818ylVR",
      "include_colab_link": true
    },
    "kernelspec": {
      "name": "python3",
      "display_name": "Python 3"
    },
    "language_info": {
      "name": "python"
    }
  },
  "cells": [
    {
      "cell_type": "markdown",
      "metadata": {
        "id": "view-in-github",
        "colab_type": "text"
      },
      "source": [
        "<a href=\"https://colab.research.google.com/github/thedataninja/MLcode/blob/main/KNN_from_scratch.ipynb\" target=\"_parent\"><img src=\"https://colab.research.google.com/assets/colab-badge.svg\" alt=\"Open In Colab\"/></a>"
      ]
    },
    {
      "cell_type": "code",
      "source": [],
      "metadata": {
        "id": "g-hqNQl8x1cw"
      },
      "execution_count": null,
      "outputs": []
    },
    {
      "cell_type": "code",
      "source": [
        "from sklearn import datasets\n",
        "from sklearn.model_selection import train_test_split\n",
        "\n",
        "iris = datasets.load_iris()\n",
        "X = iris.data\n",
        "y = iris.target\n",
        "\n",
        "X_train, X_test, y_train, y_test = train_test_split(X, y, test_size=0.33, random_state=42)\n",
        "\n"
      ],
      "metadata": {
        "id": "GSPtdXMctfor"
      },
      "execution_count": 7,
      "outputs": []
    },
    {
      "cell_type": "code",
      "execution_count": 31,
      "metadata": {
        "id": "I6GCKnBuotfF"
      },
      "outputs": [],
      "source": [
        "import numpy as np\n",
        "import collections\n",
        "class KNN:\n",
        "\n",
        "    def __init__(self, k):\n",
        "        self.k = k\n",
        "\n",
        "    def fit(self, X, y):\n",
        "\n",
        "        self.X_train = X\n",
        "        self.y_train = y\n",
        "\n",
        "    def _distance(self,x1,x2):\n",
        "\n",
        "        return np.linalg.norm(x1-x2)\n",
        "\n",
        "    def predict(self,X):\n",
        "\n",
        "      predictions=[]\n",
        "      for x in X:\n",
        "        predictions.append(self._predict(x))\n",
        "      return predictions\n",
        "\n",
        "    def _predict(self, x):\n",
        "\n",
        "        dist = []\n",
        "\n",
        "        for i in range(len(self.X_train)):\n",
        "            dist.append(self._distance(self.X_train[i],x))\n",
        "\n",
        "        idx = np.argsort(dist)[:self.k]\n",
        "\n",
        "        labels  = [self.y_train[id] for id in idx]\n",
        "        label_val = collections.Counter(labels)\n",
        "\n",
        "        return label_val.most_common(1)[0][0]\n",
        ""
      ]
    },
    {
      "cell_type": "code",
      "source": [
        "clf = KNN(5)\n",
        "\n",
        "clf.fit(X_train,y_train)\n",
        "\n",
        "predictions = clf.predict(X_test)"
      ],
      "metadata": {
        "id": "DV2h3tvlrE1E"
      },
      "execution_count": 32,
      "outputs": []
    },
    {
      "cell_type": "code",
      "source": [
        "acc = np.sum( predictions == y_test) / len(y_test)\n",
        "print(acc)"
      ],
      "metadata": {
        "colab": {
          "base_uri": "https://localhost:8080/"
        },
        "id": "Y79A1zD7wGIj",
        "outputId": "94424f88-3022-478f-fbc8-7b9e3587b090"
      },
      "execution_count": 34,
      "outputs": [
        {
          "output_type": "stream",
          "name": "stdout",
          "text": [
            "0.98\n"
          ]
        }
      ]
    }
  ]
}