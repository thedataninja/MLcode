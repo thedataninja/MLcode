{
  "nbformat": 4,
  "nbformat_minor": 0,
  "metadata": {
    "colab": {
      "provenance": [],
      "authorship_tag": "ABX9TyPjbM5tInQ1X568Kmb3yMGF",
      "include_colab_link": true
    },
    "kernelspec": {
      "name": "python3",
      "display_name": "Python 3"
    },
    "language_info": {
      "name": "python"
    }
  },
  "cells": [
    {
      "cell_type": "markdown",
      "metadata": {
        "id": "view-in-github",
        "colab_type": "text"
      },
      "source": [
        "<a href=\"https://colab.research.google.com/github/thedataninja/MLcode/blob/main/Kmeans_from_scratch.ipynb\" target=\"_parent\"><img src=\"https://colab.research.google.com/assets/colab-badge.svg\" alt=\"Open In Colab\"/></a>"
      ]
    },
    {
      "cell_type": "code",
      "execution_count": 36,
      "metadata": {
        "id": "kk6endj3aytK"
      },
      "outputs": [],
      "source": [
        "#################\n",
        "## 1)randomly assign centroids (A,B,C,D) #you will have x\n",
        "## 2)find which point belongs to which centroids\n",
        "## 3)find mid points of each cluster\n",
        "## 4)repeat until converged\n",
        "#################\n",
        "\n",
        "import seaborn as sns\n",
        "from sklearn.datasets import make_blobs\n",
        "import matplotlib.pyplot as plt\n",
        "from sklearn.preprocessing import StandardScaler\n",
        "centers = 3\n",
        "X_train, true_labels = make_blobs(n_samples=300, centers=centers, random_state=42)\n",
        "\n",
        "\n",
        "from sklearn.datasets import load_iris\n",
        "X_train = load_iris()['data']\n",
        "#X_train = StandardScaler().fit_transform(X_train)"
      ]
    },
    {
      "cell_type": "code",
      "source": [
        "import random\n",
        "import numpy as np\n",
        "import collections\n",
        "\n",
        "class KNN:\n",
        "\n",
        "  def __init__(self, X, true_labels):\n",
        "\n",
        "      self.centroids = [X[idx] for idx in random.sample(range(0, X.shape[0]), 3)]\n",
        "      self.X = X\n",
        "      self.true_labels = true_labels\n",
        "      self.clusters = collections.defaultdict(list)\n",
        "\n",
        "\n",
        "  def _distance(self, x1, x2):\n",
        "\n",
        "      return np.linalg.norm(x1-x2)\n",
        "\n",
        "  def get_clusters(self):\n",
        "      return self.clusters\n",
        "\n",
        "  def get_centroids(self):\n",
        "\n",
        "      return self.centroids\n",
        "\n",
        "  def fit(self):\n",
        "\n",
        "      num_iter = 15\n",
        "      counter = 0\n",
        "      while counter < num_iter:\n",
        "          clusters=collections.defaultdict(list)\n",
        "          for x in self.X:\n",
        "              distances=[]\n",
        "              for n1, c in enumerate(self.centroids):\n",
        "                  d1 = self._distance(x,c)\n",
        "                  distances.append(d1)\n",
        "\n",
        "              id1 = np.argmin(distances,axis=0)\n",
        "\n",
        "              clusters[id1].append(x)\n",
        "\n",
        "\n",
        "          new_centroid=[]\n",
        "          for k in clusters.keys():\n",
        "              new_centroid.append(np.mean(clusters[k],axis=0))\n",
        "\n",
        "          #print(self.centroids , new_centroid)\n",
        "          if (np.array(self.centroids) == np.array(new_centroid)).all():\n",
        "                break\n",
        "\n",
        "          self.centroids = new_centroid\n",
        "          counter+=1\n",
        "      self.clusters = clusters"
      ],
      "metadata": {
        "id": "orCo_HL-chi_"
      },
      "execution_count": 37,
      "outputs": []
    },
    {
      "cell_type": "code",
      "source": [
        "obj = KNN(X_train, true_labels)\n",
        "\n",
        "obj.fit()\n",
        "obj.get_clusters()\n",
        "obj.get_centroids()"
      ],
      "metadata": {
        "colab": {
          "base_uri": "https://localhost:8080/"
        },
        "id": "VQMD8LMigsIR",
        "outputId": "0de378af-bb45-46c3-b9f8-e765777b9dc7"
      },
      "execution_count": 38,
      "outputs": [
        {
          "output_type": "execute_result",
          "data": {
            "text/plain": [
              "[array([5.006, 3.428, 1.462, 0.246]),\n",
              " array([6.85384615, 3.07692308, 5.71538462, 2.05384615]),\n",
              " array([5.88360656, 2.74098361, 4.38852459, 1.43442623])]"
            ]
          },
          "metadata": {},
          "execution_count": 38
        }
      ]
    }
  ]
}